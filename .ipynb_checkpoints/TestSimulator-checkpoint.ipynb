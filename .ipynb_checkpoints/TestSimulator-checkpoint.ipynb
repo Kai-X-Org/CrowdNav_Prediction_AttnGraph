{
 "cells": [
  {
   "cell_type": "code",
   "execution_count": null,
   "id": "dea0b1d4",
   "metadata": {},
   "outputs": [],
   "source": [
    "from crowd_nav.configs.config import ConfigNoArgs\n",
    "from crowd_sim.envs import CrowdSim, CrowdSimVarNum, CrowdSimPred"
   ]
  },
  {
   "cell_type": "code",
   "execution_count": null,
   "id": "68ed7826",
   "metadata": {},
   "outputs": [],
   "source": [
    "config = ConfigNoArgs()\n",
    "env = CrowdSimPred()\n",
    "env.configure(config)\n",
    "env.thisSeed=0\n",
    "env.nenv=1"
   ]
  },
  {
   "cell_type": "code",
   "execution_count": null,
   "id": "a8420496",
   "metadata": {},
   "outputs": [],
   "source": [
    "from matplotlib.axes import Axes\n",
    "import matplotlib.pyplot as plt"
   ]
  },
  {
   "cell_type": "code",
   "execution_count": null,
   "id": "0b69c6f8",
   "metadata": {},
   "outputs": [],
   "source": [
    "fig, ax = plt.subplots(figsize=(7, 7))\n",
    "ax.set_xlim(-10, 10) # 6\n",
    "ax.set_ylim(-10, 10)\n",
    "ax.set_xlabel('x(m)', fontsize=16)\n",
    "ax.set_ylabel('y(m)', fontsize=16)\n",
    "plt.ion()\n",
    "plt.show()"
   ]
  },
  {
   "cell_type": "code",
   "execution_count": null,
   "id": "26a181c8",
   "metadata": {},
   "outputs": [],
   "source": [
    "env.render_axis = ax"
   ]
  },
  {
   "cell_type": "code",
   "execution_count": null,
   "id": "acb68e04",
   "metadata": {
    "scrolled": false
   },
   "outputs": [],
   "source": [
    "observation = env.reset()\n",
    "for _ in range(1000):\n",
    "    env.calc_human_future_traj('truth')\n",
    "    action = env.action_space.sample()  # User-defined policy function\n",
    "    observation, reward, terminated, info = env.step(action) \n",
    "    \n",
    "    env.render()\n",
    "    if terminated:\n",
    "        observation, info = env.reset()\n",
    "env.close()"
   ]
  },
  {
   "cell_type": "code",
   "execution_count": null,
   "id": "1b2c4b24",
   "metadata": {},
   "outputs": [],
   "source": []
  },
  {
   "cell_type": "code",
   "execution_count": null,
   "id": "ebcbf221",
   "metadata": {},
   "outputs": [],
   "source": []
  }
 ],
 "metadata": {
  "kernelspec": {
   "display_name": "Python 3 (ipykernel)",
   "language": "python",
   "name": "python3"
  },
  "language_info": {
   "codemirror_mode": {
    "name": "ipython",
    "version": 3
   },
   "file_extension": ".py",
   "mimetype": "text/x-python",
   "name": "python",
   "nbconvert_exporter": "python",
   "pygments_lexer": "ipython3",
   "version": "3.10.0"
  }
 },
 "nbformat": 4,
 "nbformat_minor": 5
}
